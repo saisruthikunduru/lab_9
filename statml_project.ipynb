{
  "nbformat": 4,
  "nbformat_minor": 0,
  "metadata": {
    "colab": {
      "provenance": []
    },
    "kernelspec": {
      "name": "python3",
      "display_name": "Python 3"
    },
    "language_info": {
      "name": "python"
    }
  },
  "cells": [
    {
      "cell_type": "code",
      "execution_count": 1,
      "metadata": {
        "id": "7MB_9PaSqPUu",
        "colab": {
          "base_uri": "https://localhost:8080/"
        },
        "outputId": "3e6d6888-eaec-4786-fe03-0f5f15851502"
      },
      "outputs": [
        {
          "output_type": "stream",
          "name": "stdout",
          "text": [
            "     Age  SystolicBP  DiastolicBP    BS  BodyTemp  HeartRate  RiskLevel\n",
            "0     25         130           80  15.0        98         86  high risk\n",
            "1     35         140           90  13.0        98         70  high risk\n",
            "2     29          90           70   8.0       100         80  high risk\n",
            "3     30         140           85   7.0        98         70  high risk\n",
            "4     35         120           60   6.1        98         76   low risk\n",
            "..   ...         ...          ...   ...       ...        ...        ...\n",
            "144   17         120           80   6.7       102         76   mid risk\n",
            "145   14          90           65   7.0       101         70  high risk\n",
            "146   15          80           60   6.7        98         80   low risk\n",
            "147   15         100           65   6.7        98         76   low risk\n",
            "148   12          95           60   6.7        98         77   low risk\n",
            "\n",
            "[149 rows x 7 columns]\n"
          ]
        }
      ],
      "source": [
        "import pandas as pd\n",
        "data=pd.read_csv('/content/data set statml.csv')\n",
        "print(data)"
      ]
    },
    {
      "cell_type": "code",
      "source": [
        "y=data['RiskLevel']\n",
        "y"
      ],
      "metadata": {
        "id": "dQ6omAqIsfgV",
        "colab": {
          "base_uri": "https://localhost:8080/"
        },
        "outputId": "d0cb2928-5bd0-4033-db01-6c7680b19ed2"
      },
      "execution_count": 2,
      "outputs": [
        {
          "output_type": "execute_result",
          "data": {
            "text/plain": [
              "0      high risk\n",
              "1      high risk\n",
              "2      high risk\n",
              "3      high risk\n",
              "4       low risk\n",
              "         ...    \n",
              "144     mid risk\n",
              "145    high risk\n",
              "146     low risk\n",
              "147     low risk\n",
              "148     low risk\n",
              "Name: RiskLevel, Length: 149, dtype: object"
            ]
          },
          "metadata": {},
          "execution_count": 2
        }
      ]
    },
    {
      "cell_type": "code",
      "source": [
        "y = y.replace({'high risk':2,'low risk':0,'mid risk':1})\n",
        "y"
      ],
      "metadata": {
        "id": "_hrvoLvO2zEa",
        "colab": {
          "base_uri": "https://localhost:8080/"
        },
        "outputId": "1e6fa45d-c3e7-43f3-da35-4198f1585c46"
      },
      "execution_count": 6,
      "outputs": [
        {
          "output_type": "execute_result",
          "data": {
            "text/plain": [
              "0      2\n",
              "1      2\n",
              "2      2\n",
              "3      2\n",
              "4      0\n",
              "      ..\n",
              "144    1\n",
              "145    2\n",
              "146    0\n",
              "147    0\n",
              "148    0\n",
              "Name: RiskLevel, Length: 149, dtype: int64"
            ]
          },
          "metadata": {},
          "execution_count": 6
        }
      ]
    },
    {
      "cell_type": "code",
      "source": [
        "x=data.drop('RiskLevel',axis=1)\n",
        "x"
      ],
      "metadata": {
        "id": "552-4zLm3X76",
        "colab": {
          "base_uri": "https://localhost:8080/",
          "height": 423
        },
        "outputId": "8dcfd640-14f9-4b8f-f829-7107e85ab158"
      },
      "execution_count": 7,
      "outputs": [
        {
          "output_type": "execute_result",
          "data": {
            "text/plain": [
              "     Age  SystolicBP  DiastolicBP    BS  BodyTemp  HeartRate\n",
              "0     25         130           80  15.0        98         86\n",
              "1     35         140           90  13.0        98         70\n",
              "2     29          90           70   8.0       100         80\n",
              "3     30         140           85   7.0        98         70\n",
              "4     35         120           60   6.1        98         76\n",
              "..   ...         ...          ...   ...       ...        ...\n",
              "144   17         120           80   6.7       102         76\n",
              "145   14          90           65   7.0       101         70\n",
              "146   15          80           60   6.7        98         80\n",
              "147   15         100           65   6.7        98         76\n",
              "148   12          95           60   6.7        98         77\n",
              "\n",
              "[149 rows x 6 columns]"
            ],
            "text/html": [
              "\n",
              "  <div id=\"df-0df30ede-b084-4d05-b81f-1bdc1fd7d78d\" class=\"colab-df-container\">\n",
              "    <div>\n",
              "<style scoped>\n",
              "    .dataframe tbody tr th:only-of-type {\n",
              "        vertical-align: middle;\n",
              "    }\n",
              "\n",
              "    .dataframe tbody tr th {\n",
              "        vertical-align: top;\n",
              "    }\n",
              "\n",
              "    .dataframe thead th {\n",
              "        text-align: right;\n",
              "    }\n",
              "</style>\n",
              "<table border=\"1\" class=\"dataframe\">\n",
              "  <thead>\n",
              "    <tr style=\"text-align: right;\">\n",
              "      <th></th>\n",
              "      <th>Age</th>\n",
              "      <th>SystolicBP</th>\n",
              "      <th>DiastolicBP</th>\n",
              "      <th>BS</th>\n",
              "      <th>BodyTemp</th>\n",
              "      <th>HeartRate</th>\n",
              "    </tr>\n",
              "  </thead>\n",
              "  <tbody>\n",
              "    <tr>\n",
              "      <th>0</th>\n",
              "      <td>25</td>\n",
              "      <td>130</td>\n",
              "      <td>80</td>\n",
              "      <td>15.0</td>\n",
              "      <td>98</td>\n",
              "      <td>86</td>\n",
              "    </tr>\n",
              "    <tr>\n",
              "      <th>1</th>\n",
              "      <td>35</td>\n",
              "      <td>140</td>\n",
              "      <td>90</td>\n",
              "      <td>13.0</td>\n",
              "      <td>98</td>\n",
              "      <td>70</td>\n",
              "    </tr>\n",
              "    <tr>\n",
              "      <th>2</th>\n",
              "      <td>29</td>\n",
              "      <td>90</td>\n",
              "      <td>70</td>\n",
              "      <td>8.0</td>\n",
              "      <td>100</td>\n",
              "      <td>80</td>\n",
              "    </tr>\n",
              "    <tr>\n",
              "      <th>3</th>\n",
              "      <td>30</td>\n",
              "      <td>140</td>\n",
              "      <td>85</td>\n",
              "      <td>7.0</td>\n",
              "      <td>98</td>\n",
              "      <td>70</td>\n",
              "    </tr>\n",
              "    <tr>\n",
              "      <th>4</th>\n",
              "      <td>35</td>\n",
              "      <td>120</td>\n",
              "      <td>60</td>\n",
              "      <td>6.1</td>\n",
              "      <td>98</td>\n",
              "      <td>76</td>\n",
              "    </tr>\n",
              "    <tr>\n",
              "      <th>...</th>\n",
              "      <td>...</td>\n",
              "      <td>...</td>\n",
              "      <td>...</td>\n",
              "      <td>...</td>\n",
              "      <td>...</td>\n",
              "      <td>...</td>\n",
              "    </tr>\n",
              "    <tr>\n",
              "      <th>144</th>\n",
              "      <td>17</td>\n",
              "      <td>120</td>\n",
              "      <td>80</td>\n",
              "      <td>6.7</td>\n",
              "      <td>102</td>\n",
              "      <td>76</td>\n",
              "    </tr>\n",
              "    <tr>\n",
              "      <th>145</th>\n",
              "      <td>14</td>\n",
              "      <td>90</td>\n",
              "      <td>65</td>\n",
              "      <td>7.0</td>\n",
              "      <td>101</td>\n",
              "      <td>70</td>\n",
              "    </tr>\n",
              "    <tr>\n",
              "      <th>146</th>\n",
              "      <td>15</td>\n",
              "      <td>80</td>\n",
              "      <td>60</td>\n",
              "      <td>6.7</td>\n",
              "      <td>98</td>\n",
              "      <td>80</td>\n",
              "    </tr>\n",
              "    <tr>\n",
              "      <th>147</th>\n",
              "      <td>15</td>\n",
              "      <td>100</td>\n",
              "      <td>65</td>\n",
              "      <td>6.7</td>\n",
              "      <td>98</td>\n",
              "      <td>76</td>\n",
              "    </tr>\n",
              "    <tr>\n",
              "      <th>148</th>\n",
              "      <td>12</td>\n",
              "      <td>95</td>\n",
              "      <td>60</td>\n",
              "      <td>6.7</td>\n",
              "      <td>98</td>\n",
              "      <td>77</td>\n",
              "    </tr>\n",
              "  </tbody>\n",
              "</table>\n",
              "<p>149 rows × 6 columns</p>\n",
              "</div>\n",
              "    <div class=\"colab-df-buttons\">\n",
              "\n",
              "  <div class=\"colab-df-container\">\n",
              "    <button class=\"colab-df-convert\" onclick=\"convertToInteractive('df-0df30ede-b084-4d05-b81f-1bdc1fd7d78d')\"\n",
              "            title=\"Convert this dataframe to an interactive table.\"\n",
              "            style=\"display:none;\">\n",
              "\n",
              "  <svg xmlns=\"http://www.w3.org/2000/svg\" height=\"24px\" viewBox=\"0 -960 960 960\">\n",
              "    <path d=\"M120-120v-720h720v720H120Zm60-500h600v-160H180v160Zm220 220h160v-160H400v160Zm0 220h160v-160H400v160ZM180-400h160v-160H180v160Zm440 0h160v-160H620v160ZM180-180h160v-160H180v160Zm440 0h160v-160H620v160Z\"/>\n",
              "  </svg>\n",
              "    </button>\n",
              "\n",
              "  <style>\n",
              "    .colab-df-container {\n",
              "      display:flex;\n",
              "      gap: 12px;\n",
              "    }\n",
              "\n",
              "    .colab-df-convert {\n",
              "      background-color: #E8F0FE;\n",
              "      border: none;\n",
              "      border-radius: 50%;\n",
              "      cursor: pointer;\n",
              "      display: none;\n",
              "      fill: #1967D2;\n",
              "      height: 32px;\n",
              "      padding: 0 0 0 0;\n",
              "      width: 32px;\n",
              "    }\n",
              "\n",
              "    .colab-df-convert:hover {\n",
              "      background-color: #E2EBFA;\n",
              "      box-shadow: 0px 1px 2px rgba(60, 64, 67, 0.3), 0px 1px 3px 1px rgba(60, 64, 67, 0.15);\n",
              "      fill: #174EA6;\n",
              "    }\n",
              "\n",
              "    .colab-df-buttons div {\n",
              "      margin-bottom: 4px;\n",
              "    }\n",
              "\n",
              "    [theme=dark] .colab-df-convert {\n",
              "      background-color: #3B4455;\n",
              "      fill: #D2E3FC;\n",
              "    }\n",
              "\n",
              "    [theme=dark] .colab-df-convert:hover {\n",
              "      background-color: #434B5C;\n",
              "      box-shadow: 0px 1px 3px 1px rgba(0, 0, 0, 0.15);\n",
              "      filter: drop-shadow(0px 1px 2px rgba(0, 0, 0, 0.3));\n",
              "      fill: #FFFFFF;\n",
              "    }\n",
              "  </style>\n",
              "\n",
              "    <script>\n",
              "      const buttonEl =\n",
              "        document.querySelector('#df-0df30ede-b084-4d05-b81f-1bdc1fd7d78d button.colab-df-convert');\n",
              "      buttonEl.style.display =\n",
              "        google.colab.kernel.accessAllowed ? 'block' : 'none';\n",
              "\n",
              "      async function convertToInteractive(key) {\n",
              "        const element = document.querySelector('#df-0df30ede-b084-4d05-b81f-1bdc1fd7d78d');\n",
              "        const dataTable =\n",
              "          await google.colab.kernel.invokeFunction('convertToInteractive',\n",
              "                                                    [key], {});\n",
              "        if (!dataTable) return;\n",
              "\n",
              "        const docLinkHtml = 'Like what you see? Visit the ' +\n",
              "          '<a target=\"_blank\" href=https://colab.research.google.com/notebooks/data_table.ipynb>data table notebook</a>'\n",
              "          + ' to learn more about interactive tables.';\n",
              "        element.innerHTML = '';\n",
              "        dataTable['output_type'] = 'display_data';\n",
              "        await google.colab.output.renderOutput(dataTable, element);\n",
              "        const docLink = document.createElement('div');\n",
              "        docLink.innerHTML = docLinkHtml;\n",
              "        element.appendChild(docLink);\n",
              "      }\n",
              "    </script>\n",
              "  </div>\n",
              "\n",
              "\n",
              "<div id=\"df-52bcced4-c7fb-4ebd-bc8e-15c38c60f2b8\">\n",
              "  <button class=\"colab-df-quickchart\" onclick=\"quickchart('df-52bcced4-c7fb-4ebd-bc8e-15c38c60f2b8')\"\n",
              "            title=\"Suggest charts.\"\n",
              "            style=\"display:none;\">\n",
              "\n",
              "<svg xmlns=\"http://www.w3.org/2000/svg\" height=\"24px\"viewBox=\"0 0 24 24\"\n",
              "     width=\"24px\">\n",
              "    <g>\n",
              "        <path d=\"M19 3H5c-1.1 0-2 .9-2 2v14c0 1.1.9 2 2 2h14c1.1 0 2-.9 2-2V5c0-1.1-.9-2-2-2zM9 17H7v-7h2v7zm4 0h-2V7h2v10zm4 0h-2v-4h2v4z\"/>\n",
              "    </g>\n",
              "</svg>\n",
              "  </button>\n",
              "\n",
              "<style>\n",
              "  .colab-df-quickchart {\n",
              "      --bg-color: #E8F0FE;\n",
              "      --fill-color: #1967D2;\n",
              "      --hover-bg-color: #E2EBFA;\n",
              "      --hover-fill-color: #174EA6;\n",
              "      --disabled-fill-color: #AAA;\n",
              "      --disabled-bg-color: #DDD;\n",
              "  }\n",
              "\n",
              "  [theme=dark] .colab-df-quickchart {\n",
              "      --bg-color: #3B4455;\n",
              "      --fill-color: #D2E3FC;\n",
              "      --hover-bg-color: #434B5C;\n",
              "      --hover-fill-color: #FFFFFF;\n",
              "      --disabled-bg-color: #3B4455;\n",
              "      --disabled-fill-color: #666;\n",
              "  }\n",
              "\n",
              "  .colab-df-quickchart {\n",
              "    background-color: var(--bg-color);\n",
              "    border: none;\n",
              "    border-radius: 50%;\n",
              "    cursor: pointer;\n",
              "    display: none;\n",
              "    fill: var(--fill-color);\n",
              "    height: 32px;\n",
              "    padding: 0;\n",
              "    width: 32px;\n",
              "  }\n",
              "\n",
              "  .colab-df-quickchart:hover {\n",
              "    background-color: var(--hover-bg-color);\n",
              "    box-shadow: 0 1px 2px rgba(60, 64, 67, 0.3), 0 1px 3px 1px rgba(60, 64, 67, 0.15);\n",
              "    fill: var(--button-hover-fill-color);\n",
              "  }\n",
              "\n",
              "  .colab-df-quickchart-complete:disabled,\n",
              "  .colab-df-quickchart-complete:disabled:hover {\n",
              "    background-color: var(--disabled-bg-color);\n",
              "    fill: var(--disabled-fill-color);\n",
              "    box-shadow: none;\n",
              "  }\n",
              "\n",
              "  .colab-df-spinner {\n",
              "    border: 2px solid var(--fill-color);\n",
              "    border-color: transparent;\n",
              "    border-bottom-color: var(--fill-color);\n",
              "    animation:\n",
              "      spin 1s steps(1) infinite;\n",
              "  }\n",
              "\n",
              "  @keyframes spin {\n",
              "    0% {\n",
              "      border-color: transparent;\n",
              "      border-bottom-color: var(--fill-color);\n",
              "      border-left-color: var(--fill-color);\n",
              "    }\n",
              "    20% {\n",
              "      border-color: transparent;\n",
              "      border-left-color: var(--fill-color);\n",
              "      border-top-color: var(--fill-color);\n",
              "    }\n",
              "    30% {\n",
              "      border-color: transparent;\n",
              "      border-left-color: var(--fill-color);\n",
              "      border-top-color: var(--fill-color);\n",
              "      border-right-color: var(--fill-color);\n",
              "    }\n",
              "    40% {\n",
              "      border-color: transparent;\n",
              "      border-right-color: var(--fill-color);\n",
              "      border-top-color: var(--fill-color);\n",
              "    }\n",
              "    60% {\n",
              "      border-color: transparent;\n",
              "      border-right-color: var(--fill-color);\n",
              "    }\n",
              "    80% {\n",
              "      border-color: transparent;\n",
              "      border-right-color: var(--fill-color);\n",
              "      border-bottom-color: var(--fill-color);\n",
              "    }\n",
              "    90% {\n",
              "      border-color: transparent;\n",
              "      border-bottom-color: var(--fill-color);\n",
              "    }\n",
              "  }\n",
              "</style>\n",
              "\n",
              "  <script>\n",
              "    async function quickchart(key) {\n",
              "      const quickchartButtonEl =\n",
              "        document.querySelector('#' + key + ' button');\n",
              "      quickchartButtonEl.disabled = true;  // To prevent multiple clicks.\n",
              "      quickchartButtonEl.classList.add('colab-df-spinner');\n",
              "      try {\n",
              "        const charts = await google.colab.kernel.invokeFunction(\n",
              "            'suggestCharts', [key], {});\n",
              "      } catch (error) {\n",
              "        console.error('Error during call to suggestCharts:', error);\n",
              "      }\n",
              "      quickchartButtonEl.classList.remove('colab-df-spinner');\n",
              "      quickchartButtonEl.classList.add('colab-df-quickchart-complete');\n",
              "    }\n",
              "    (() => {\n",
              "      let quickchartButtonEl =\n",
              "        document.querySelector('#df-52bcced4-c7fb-4ebd-bc8e-15c38c60f2b8 button');\n",
              "      quickchartButtonEl.style.display =\n",
              "        google.colab.kernel.accessAllowed ? 'block' : 'none';\n",
              "    })();\n",
              "  </script>\n",
              "</div>\n",
              "    </div>\n",
              "  </div>\n"
            ]
          },
          "metadata": {},
          "execution_count": 7
        }
      ]
    },
    {
      "cell_type": "code",
      "source": [
        "import pandas as pd\n",
        "data=pd.read_csv('/content/data set statml.csv')\n",
        "print(data)\n",
        "print(data.head())\n",
        "print(data.columns)\n",
        "target_variable = 'RiskLevel'\n",
        "features = data.columns[data.columns != target_variable]\n",
        "print('Target Variable:', target_variable)\n",
        "print('Features:',features)"
      ],
      "metadata": {
        "id": "_2R_7BET_f48"
      },
      "execution_count": null,
      "outputs": []
    },
    {
      "cell_type": "markdown",
      "source": [],
      "metadata": {
        "id": "zA-lzze66qyX"
      }
    },
    {
      "cell_type": "code",
      "source": [
        "from sklearn.preprocessing import MinMaxScaler\n",
        "scaler=MinMaxScaler(feature_range=(0,1))\n",
        "xtrain_norm=scaler.fit_transform(x)\n",
        "xtrain_norm"
      ],
      "metadata": {
        "id": "2bZBBs-_4Fpp",
        "colab": {
          "base_uri": "https://localhost:8080/"
        },
        "outputId": "3eb04290-6433-4209-e3a7-5d38fe27316b"
      },
      "execution_count": 8,
      "outputs": [
        {
          "output_type": "execute_result",
          "data": {
            "text/plain": [
              "array([[0.28301887, 0.66666667, 0.60784314, 0.69230769, 0.        ,\n",
              "        0.86666667],\n",
              "       [0.47169811, 0.77777778, 0.80392157, 0.53846154, 0.        ,\n",
              "        0.33333333],\n",
              "       [0.35849057, 0.22222222, 0.41176471, 0.15384615, 0.5       ,\n",
              "        0.66666667],\n",
              "       [0.37735849, 0.77777778, 0.70588235, 0.07692308, 0.        ,\n",
              "        0.33333333],\n",
              "       [0.47169811, 0.55555556, 0.21568627, 0.00769231, 0.        ,\n",
              "        0.53333333],\n",
              "       [0.24528302, 0.77777778, 0.60784314, 0.07769231, 0.        ,\n",
              "        0.33333333],\n",
              "       [0.24528302, 0.66666667, 0.41176471, 0.07769231, 0.        ,\n",
              "        0.6       ],\n",
              "       [0.47169811, 0.16666667, 0.21568627, 0.38461538, 1.        ,\n",
              "        0.86666667],\n",
              "       [0.41509434, 0.55555556, 0.80392157, 0.06923077, 0.        ,\n",
              "        0.33333333],\n",
              "       [0.60377358, 0.66666667, 0.60784314, 0.92307692, 0.        ,\n",
              "        0.33333333],\n",
              "       [0.24528302, 0.22222222, 0.21568627, 0.07769231, 0.        ,\n",
              "        0.53333333],\n",
              "       [0.16981132, 0.55555556, 0.60784314, 0.07692308, 0.        ,\n",
              "        0.33333333],\n",
              "       [0.28301887, 0.44444444, 0.78431373, 0.07769231, 0.        ,\n",
              "        0.56666667],\n",
              "       [0.18867925, 0.55555556, 0.50980392, 0.07769231, 0.5       ,\n",
              "        0.33333333],\n",
              "       [0.71698113, 0.55555556, 0.60784314, 0.38461538, 0.        ,\n",
              "        0.93333333],\n",
              "       [0.09433962, 0.55555556, 0.60784314, 0.07769231, 0.        ,\n",
              "        0.33333333],\n",
              "       [0.75471698, 0.77777778, 0.80392157, 0.69230769, 0.        ,\n",
              "        1.        ],\n",
              "       [0.28301887, 0.77777778, 1.        , 0.07769231, 0.        ,\n",
              "        0.66666667],\n",
              "       [0.37735849, 0.55555556, 0.60784314, 0.06923077, 0.75      ,\n",
              "        0.53333333],\n",
              "       [0.        , 0.        , 0.01960784, 0.06923077, 0.        ,\n",
              "        0.33333333],\n",
              "       [0.56603774, 0.77777778, 1.        , 0.92307692, 0.        ,\n",
              "        1.        ],\n",
              "       [0.75471698, 0.77777778, 0.60784314, 0.05384615, 0.        ,\n",
              "        0.33333333],\n",
              "       [0.20754717, 0.22222222, 0.31372549, 0.11538462, 0.        ,\n",
              "        0.53333333],\n",
              "       [0.1509434 , 0.22222222, 0.21568627, 0.11538462, 0.        ,\n",
              "        0.33333333],\n",
              "       [0.20754717, 0.55555556, 0.60784314, 0.11538462, 0.        ,\n",
              "        0.53333333],\n",
              "       [0.11320755, 0.33333333, 0.41176471, 0.09230769, 0.        ,\n",
              "        0.66666667],\n",
              "       [0.16981132, 0.55555556, 0.50980392, 0.09230769, 0.        ,\n",
              "        0.2       ],\n",
              "       [0.22641509, 0.33333333, 0.31372549, 0.09230769, 0.        ,\n",
              "        0.33333333],\n",
              "       [0.73584906, 0.55555556, 0.80392157, 0.09230769, 0.        ,\n",
              "        0.56666667],\n",
              "       [0.33962264, 0.22222222, 0.21568627, 0.09230769, 0.        ,\n",
              "        0.73333333],\n",
              "       [0.18867925, 0.33333333, 0.80392157, 0.08461538, 0.        ,\n",
              "        0.93333333],\n",
              "       [0.24528302, 0.33333333, 0.70588235, 0.08461538, 0.        ,\n",
              "        0.2       ],\n",
              "       [0.22641509, 0.55555556, 0.80392157, 0.08461538, 0.        ,\n",
              "        0.73333333],\n",
              "       [0.20754717, 0.55555556, 0.60784314, 0.08461538, 0.        ,\n",
              "        0.56666667],\n",
              "       [0.20754717, 0.05555556, 0.01960784, 0.00769231, 0.        ,\n",
              "        0.33333333],\n",
              "       [0.03773585, 0.27777778, 0.21568627, 0.00769231, 1.        ,\n",
              "        0.        ],\n",
              "       [0.94339623, 0.55555556, 0.60784314, 0.00769231, 0.        ,\n",
              "        0.5       ],\n",
              "       [0.8490566 , 0.33333333, 0.31372549, 0.00769231, 0.        ,\n",
              "        0.2       ],\n",
              "       [0.66037736, 0.55555556, 0.90196078, 0.00769231, 0.        ,\n",
              "        0.2       ],\n",
              "       [0.47169811, 0.33333333, 0.41176471, 0.00769231, 0.        ,\n",
              "        0.2       ],\n",
              "       [0.22641509, 0.55555556, 0.70588235, 0.00769231, 0.        ,\n",
              "        0.93333333],\n",
              "       [0.24528302, 0.55555556, 0.80392157, 0.00769231, 0.        ,\n",
              "        0.        ],\n",
              "       [0.28301887, 0.22222222, 0.41176471, 0.00769231, 0.        ,\n",
              "        0.66666667],\n",
              "       [0.37735849, 0.55555556, 0.60784314, 0.00769231, 0.        ,\n",
              "        0.33333333],\n",
              "       [0.24528302, 0.55555556, 0.80392157, 0.00769231, 0.        ,\n",
              "        0.33333333],\n",
              "       [0.41509434, 0.55555556, 0.80392157, 0.11538462, 0.        ,\n",
              "        0.33333333],\n",
              "       [0.60377358, 0.55555556, 0.60784314, 0.11538462, 0.        ,\n",
              "        0.33333333],\n",
              "       [0.24528302, 0.22222222, 0.21568627, 0.11538462, 0.        ,\n",
              "        0.53333333],\n",
              "       [0.09433962, 0.06666667, 0.        , 0.11538462, 0.        ,\n",
              "        0.56666667],\n",
              "       [0.09433962, 0.55555556, 0.60784314, 0.07692308, 0.        ,\n",
              "        0.33333333],\n",
              "       [0.28301887, 0.55555556, 0.60784314, 0.07692308, 0.        ,\n",
              "        0.2       ],\n",
              "       [0.22641509, 0.33333333, 0.31372549, 0.07692308, 0.        ,\n",
              "        0.66666667],\n",
              "       [0.47169811, 0.33333333, 0.41176471, 0.07692308, 0.        ,\n",
              "        0.        ],\n",
              "       [0.16981132, 0.55555556, 0.70588235, 0.07692308, 0.        ,\n",
              "        0.        ],\n",
              "       [0.94339623, 0.22222222, 0.31372549, 0.07692308, 0.        ,\n",
              "        0.56666667],\n",
              "       [0.24528302, 0.55555556, 0.80392157, 0.05384615, 0.        ,\n",
              "        0.33333333],\n",
              "       [0.41509434, 0.55555556, 0.80392157, 0.03076923, 0.        ,\n",
              "        0.33333333],\n",
              "       [0.60377358, 0.55555556, 0.60784314, 0.03076923, 0.        ,\n",
              "        0.33333333],\n",
              "       [0.24528302, 0.22222222, 0.21568627, 0.03076923, 0.        ,\n",
              "        0.53333333],\n",
              "       [0.09433962, 0.06666667, 0.        , 0.03076923, 0.        ,\n",
              "        0.56666667],\n",
              "       [0.09433962, 0.55555556, 0.60784314, 0.09230769, 0.        ,\n",
              "        0.33333333],\n",
              "       [0.09433962, 0.11111111, 0.21568627, 0.07692308, 0.        ,\n",
              "        0.66666667],\n",
              "       [0.03773585, 0.27777778, 0.21568627, 0.09230769, 0.        ,\n",
              "        0.56666667],\n",
              "       [0.35849057, 0.22222222, 0.41176471, 0.05384615, 0.        ,\n",
              "        0.66666667],\n",
              "       [0.39622642, 0.55555556, 0.21568627, 0.00769231, 0.        ,\n",
              "        0.53333333],\n",
              "       [0.35849057, 0.66666667, 0.41176471, 0.05384615, 0.        ,\n",
              "        0.6       ],\n",
              "       [0.13207547, 0.16666667, 0.21568627, 0.23076923, 1.        ,\n",
              "        0.86666667],\n",
              "       [0.16981132, 0.55555556, 0.60784314, 0.07692308, 0.        ,\n",
              "        0.33333333],\n",
              "       [0.18867925, 0.44444444, 0.21568627, 0.07692308, 0.5       ,\n",
              "        0.33333333],\n",
              "       [0.41509434, 0.55555556, 0.31372549, 0.        , 0.75      ,\n",
              "        0.53333333],\n",
              "       [0.30188679, 0.16666667, 0.21568627, 0.        , 0.75      ,\n",
              "        0.86666667],\n",
              "       [0.35849057, 0.66666667, 0.41176471, 0.13076923, 0.        ,\n",
              "        0.6       ],\n",
              "       [0.16981132, 0.55555556, 0.60784314, 0.07692308, 0.        ,\n",
              "        0.33333333],\n",
              "       [0.83018868, 0.66666667, 0.41176471, 0.46153846, 0.        ,\n",
              "        0.23333333],\n",
              "       [0.64150943, 0.55555556, 0.80392157, 0.76923077, 0.        ,\n",
              "        0.66666667],\n",
              "       [0.24528302, 0.66666667, 0.41176471, 0.06923077, 0.        ,\n",
              "        0.33333333],\n",
              "       [0.22641509, 0.16666667, 0.21568627, 0.06923077, 0.        ,\n",
              "        0.53333333],\n",
              "       [0.8490566 , 0.55555556, 0.80392157, 0.46153846, 0.        ,\n",
              "        0.33333333],\n",
              "       [0.47169811, 0.55555556, 0.60784314, 0.06923077, 0.        ,\n",
              "        0.6       ],\n",
              "       [0.20754717, 0.22222222, 0.21568627, 0.06923077, 0.        ,\n",
              "        0.86666667],\n",
              "       [0.11320755, 0.22222222, 0.31372549, 0.06923077, 0.        ,\n",
              "        0.53333333],\n",
              "       [0.43396226, 0.5       , 0.31372549, 0.07692308, 0.        ,\n",
              "        0.33333333],\n",
              "       [0.03773585, 0.27777778, 0.21568627, 0.06923077, 0.        ,\n",
              "        0.16666667],\n",
              "       [0.33962264, 0.55555556, 0.80392157, 0.06923077, 0.        ,\n",
              "        0.33333333],\n",
              "       [0.20754717, 0.22222222, 0.31372549, 0.06923077, 0.        ,\n",
              "        0.53333333],\n",
              "       [0.1509434 , 0.22222222, 0.21568627, 0.06923077, 0.        ,\n",
              "        0.33333333],\n",
              "       [0.20754717, 0.55555556, 0.60784314, 0.06923077, 0.        ,\n",
              "        0.53333333],\n",
              "       [0.11320755, 0.33333333, 0.41176471, 0.06923077, 0.        ,\n",
              "        0.66666667],\n",
              "       [0.16981132, 0.55555556, 0.50980392, 0.06923077, 0.        ,\n",
              "        0.2       ],\n",
              "       [0.24528302, 0.33333333, 0.70588235, 0.06923077, 0.        ,\n",
              "        0.2       ],\n",
              "       [0.22641509, 0.55555556, 0.80392157, 0.13846154, 0.        ,\n",
              "        0.73333333],\n",
              "       [0.94339623, 0.55555556, 0.70588235, 0.69230769, 0.        ,\n",
              "        0.        ],\n",
              "       [0.05660377, 0.22222222, 0.31372549, 0.13846154, 0.75      ,\n",
              "        0.66666667],\n",
              "       [0.24528302, 0.55555556, 0.80392157, 0.13846154, 0.        ,\n",
              "        0.        ],\n",
              "       [0.33962264, 0.5       , 0.21568627, 0.13846154, 0.75      ,\n",
              "        0.86666667],\n",
              "       [0.75471698, 0.55555556, 0.60784314, 0.13846154, 0.        ,\n",
              "        0.33333333],\n",
              "       [0.35849057, 0.66666667, 0.41176471, 0.13846154, 0.        ,\n",
              "        0.6       ],\n",
              "       [0.16981132, 0.55555556, 0.60784314, 0.07692308, 0.        ,\n",
              "        0.33333333],\n",
              "       [0.16981132, 0.55555556, 0.70588235, 0.13846154, 0.        ,\n",
              "        0.        ],\n",
              "       [0.94339623, 0.22222222, 0.31372549, 0.06153846, 0.        ,\n",
              "        0.56666667],\n",
              "       [0.8490566 , 0.55555556, 0.80392157, 0.06153846, 0.        ,\n",
              "        0.2       ],\n",
              "       [0.28301887, 0.55555556, 0.60784314, 0.06153846, 0.        ,\n",
              "        0.2       ],\n",
              "       [0.71698113, 0.77777778, 0.80392157, 0.69230769, 0.        ,\n",
              "        1.        ],\n",
              "       [0.28301887, 0.77777778, 1.        , 0.06153846, 0.        ,\n",
              "        0.66666667],\n",
              "       [0.24528302, 0.77777778, 0.80392157, 0.06153846, 0.        ,\n",
              "        0.33333333],\n",
              "       [0.45283019, 0.16666667, 0.21568627, 0.38461538, 1.        ,\n",
              "        0.86666667],\n",
              "       [0.75471698, 0.77777778, 0.80392157, 0.69230769, 0.        ,\n",
              "        1.        ],\n",
              "       [0.28301887, 0.77777778, 1.        , 0.06153846, 0.        ,\n",
              "        0.66666667],\n",
              "       [0.60377358, 0.77777778, 1.        , 0.92307692, 0.        ,\n",
              "        1.        ],\n",
              "       [0.41509434, 0.77777778, 1.        , 0.14615385, 0.        ,\n",
              "        0.6       ],\n",
              "       [0.75471698, 0.77777778, 0.90196078, 0.84615385, 0.        ,\n",
              "        0.        ],\n",
              "       [0.52830189, 0.72222222, 0.21568627, 0.14615385, 0.75      ,\n",
              "        0.86666667],\n",
              "       [0.54716981, 0.22222222, 0.41176471, 0.23076923, 0.        ,\n",
              "        0.66666667],\n",
              "       [0.37735849, 0.77777778, 1.        , 0.69230769, 0.        ,\n",
              "        0.33333333],\n",
              "       [1.        , 0.77777778, 0.80392157, 0.69230769, 0.        ,\n",
              "        1.        ],\n",
              "       [0.28301887, 0.77777778, 1.        , 0.14615385, 0.        ,\n",
              "        0.66666667],\n",
              "       [0.37735849, 0.55555556, 0.60784314, 0.14615385, 0.75      ,\n",
              "        0.53333333],\n",
              "       [0.8490566 , 0.77777778, 1.        , 0.92307692, 0.        ,\n",
              "        1.        ],\n",
              "       [0.41509434, 0.77777778, 1.        , 0.14615385, 0.        ,\n",
              "        0.6       ],\n",
              "       [0.37735849, 0.77777778, 1.        , 0.69230769, 0.        ,\n",
              "        0.33333333],\n",
              "       [0.71698113, 0.55555556, 0.60784314, 0.38461538, 0.        ,\n",
              "        0.93333333],\n",
              "       [0.73584906, 0.77777778, 0.80392157, 0.69230769, 0.        ,\n",
              "        1.        ],\n",
              "       [0.28301887, 0.77777778, 1.        , 0.11538462, 0.        ,\n",
              "        0.66666667],\n",
              "       [0.56603774, 1.        , 1.        , 1.        , 0.        ,\n",
              "        0.56666667],\n",
              "       [0.41509434, 0.77777778, 0.80392157, 0.92307692, 0.        ,\n",
              "        0.93333333],\n",
              "       [0.47169811, 0.77777778, 1.        , 0.11538462, 0.        ,\n",
              "        0.2       ],\n",
              "       [0.83018868, 0.77777778, 1.        , 0.69230769, 0.        ,\n",
              "        0.2       ],\n",
              "       [0.8490566 , 0.77777778, 0.90196078, 1.        , 0.        ,\n",
              "        0.56666667],\n",
              "       [0.35849057, 0.55555556, 0.41176471, 0.23076923, 0.        ,\n",
              "        0.66666667],\n",
              "       [0.71698113, 0.55555556, 0.60784314, 0.38461538, 0.        ,\n",
              "        0.93333333],\n",
              "       [0.56603774, 1.        , 1.        , 1.        , 0.        ,\n",
              "        0.56666667],\n",
              "       [0.41509434, 0.77777778, 0.80392157, 0.92307692, 0.        ,\n",
              "        0.93333333],\n",
              "       [0.47169811, 0.77777778, 1.        , 0.11538462, 0.        ,\n",
              "        0.2       ],\n",
              "       [0.83018868, 0.77777778, 1.        , 0.69230769, 0.        ,\n",
              "        0.2       ],\n",
              "       [0.56603774, 0.55555556, 0.90196078, 0.38461538, 0.        ,\n",
              "        0.66666667],\n",
              "       [0.22641509, 0.22222222, 0.21568627, 0.11538462, 1.        ,\n",
              "        0.        ],\n",
              "       [0.56603774, 0.55555556, 0.70588235, 0.69230769, 0.        ,\n",
              "        0.        ],\n",
              "       [0.8490566 , 0.77777778, 0.90196078, 1.        , 0.        ,\n",
              "        0.56666667],\n",
              "       [0.75471698, 0.66666667, 1.        , 0.76923077, 0.        ,\n",
              "        0.5       ],\n",
              "       [0.1509434 , 0.55555556, 0.60784314, 0.06923077, 1.        ,\n",
              "        0.53333333],\n",
              "       [0.41509434, 0.77777778, 1.        , 0.06923077, 0.        ,\n",
              "        0.6       ],\n",
              "       [0.13207547, 0.22222222, 0.21568627, 0.06923077, 0.75      ,\n",
              "        0.53333333],\n",
              "       [0.13207547, 0.22222222, 0.2745098 , 0.06923077, 0.75      ,\n",
              "        0.33333333],\n",
              "       [0.28301887, 0.55555556, 0.80392157, 0.05384615, 0.75      ,\n",
              "        0.66666667],\n",
              "       [0.13207547, 0.55555556, 0.60784314, 0.05384615, 1.        ,\n",
              "        0.53333333],\n",
              "       [0.0754717 , 0.22222222, 0.31372549, 0.07692308, 0.75      ,\n",
              "        0.33333333],\n",
              "       [0.09433962, 0.11111111, 0.21568627, 0.05384615, 0.        ,\n",
              "        0.66666667],\n",
              "       [0.09433962, 0.33333333, 0.31372549, 0.05384615, 0.        ,\n",
              "        0.53333333],\n",
              "       [0.03773585, 0.27777778, 0.21568627, 0.05384615, 0.        ,\n",
              "        0.56666667]])"
            ]
          },
          "metadata": {},
          "execution_count": 8
        }
      ]
    },
    {
      "cell_type": "code",
      "source": [
        "from sklearn.model_selection import train_test_split"
      ],
      "metadata": {
        "id": "uzU-BZM94Ym7"
      },
      "execution_count": 9,
      "outputs": []
    },
    {
      "cell_type": "code",
      "source": [
        "x_train,x_test,y_train,y_test=train_test_split(xtrain_norm,y,test_size=0.3)"
      ],
      "metadata": {
        "id": "gOdofwOO4Z7q"
      },
      "execution_count": 10,
      "outputs": []
    },
    {
      "cell_type": "code",
      "source": [
        "x_train"
      ],
      "metadata": {
        "id": "4APIDGK84fup",
        "colab": {
          "base_uri": "https://localhost:8080/"
        },
        "outputId": "2def3c82-672f-444f-a6ab-dd61d9cb580e"
      },
      "execution_count": 11,
      "outputs": [
        {
          "output_type": "execute_result",
          "data": {
            "text/plain": [
              "array([[0.75471698, 0.66666667, 1.        , 0.76923077, 0.        ,\n",
              "        0.5       ],\n",
              "       [0.75471698, 0.77777778, 0.60784314, 0.05384615, 0.        ,\n",
              "        0.33333333],\n",
              "       [0.28301887, 0.55555556, 0.80392157, 0.05384615, 0.75      ,\n",
              "        0.66666667],\n",
              "       [0.16981132, 0.55555556, 0.60784314, 0.07692308, 0.        ,\n",
              "        0.33333333],\n",
              "       [0.45283019, 0.16666667, 0.21568627, 0.38461538, 1.        ,\n",
              "        0.86666667],\n",
              "       [0.28301887, 0.44444444, 0.78431373, 0.07769231, 0.        ,\n",
              "        0.56666667],\n",
              "       [0.8490566 , 0.77777778, 1.        , 0.92307692, 0.        ,\n",
              "        1.        ],\n",
              "       [0.41509434, 0.55555556, 0.80392157, 0.03076923, 0.        ,\n",
              "        0.33333333],\n",
              "       [0.24528302, 0.33333333, 0.70588235, 0.08461538, 0.        ,\n",
              "        0.2       ],\n",
              "       [0.41509434, 0.55555556, 0.80392157, 0.11538462, 0.        ,\n",
              "        0.33333333],\n",
              "       [0.8490566 , 0.55555556, 0.80392157, 0.06153846, 0.        ,\n",
              "        0.2       ],\n",
              "       [0.24528302, 0.22222222, 0.21568627, 0.07769231, 0.        ,\n",
              "        0.53333333],\n",
              "       [0.1509434 , 0.22222222, 0.21568627, 0.11538462, 0.        ,\n",
              "        0.33333333],\n",
              "       [0.83018868, 0.77777778, 1.        , 0.69230769, 0.        ,\n",
              "        0.2       ],\n",
              "       [0.18867925, 0.44444444, 0.21568627, 0.07692308, 0.5       ,\n",
              "        0.33333333],\n",
              "       [0.24528302, 0.22222222, 0.21568627, 0.03076923, 0.        ,\n",
              "        0.53333333],\n",
              "       [0.09433962, 0.06666667, 0.        , 0.11538462, 0.        ,\n",
              "        0.56666667],\n",
              "       [0.16981132, 0.55555556, 0.70588235, 0.13846154, 0.        ,\n",
              "        0.        ],\n",
              "       [0.09433962, 0.06666667, 0.        , 0.03076923, 0.        ,\n",
              "        0.56666667],\n",
              "       [0.13207547, 0.16666667, 0.21568627, 0.23076923, 1.        ,\n",
              "        0.86666667],\n",
              "       [0.41509434, 0.77777778, 0.80392157, 0.92307692, 0.        ,\n",
              "        0.93333333],\n",
              "       [0.35849057, 0.22222222, 0.41176471, 0.15384615, 0.5       ,\n",
              "        0.66666667],\n",
              "       [0.33962264, 0.55555556, 0.80392157, 0.06923077, 0.        ,\n",
              "        0.33333333],\n",
              "       [0.24528302, 0.33333333, 0.70588235, 0.06923077, 0.        ,\n",
              "        0.2       ],\n",
              "       [0.13207547, 0.55555556, 0.60784314, 0.05384615, 1.        ,\n",
              "        0.53333333],\n",
              "       [0.24528302, 0.66666667, 0.41176471, 0.06923077, 0.        ,\n",
              "        0.33333333],\n",
              "       [0.56603774, 0.55555556, 0.70588235, 0.69230769, 0.        ,\n",
              "        0.        ],\n",
              "       [0.37735849, 0.55555556, 0.60784314, 0.14615385, 0.75      ,\n",
              "        0.53333333],\n",
              "       [0.37735849, 0.77777778, 1.        , 0.69230769, 0.        ,\n",
              "        0.33333333],\n",
              "       [0.16981132, 0.55555556, 0.50980392, 0.09230769, 0.        ,\n",
              "        0.2       ],\n",
              "       [0.03773585, 0.27777778, 0.21568627, 0.00769231, 1.        ,\n",
              "        0.        ],\n",
              "       [0.71698113, 0.77777778, 0.80392157, 0.69230769, 0.        ,\n",
              "        1.        ],\n",
              "       [0.66037736, 0.55555556, 0.90196078, 0.00769231, 0.        ,\n",
              "        0.2       ],\n",
              "       [0.16981132, 0.55555556, 0.60784314, 0.07692308, 0.        ,\n",
              "        0.33333333],\n",
              "       [0.43396226, 0.5       , 0.31372549, 0.07692308, 0.        ,\n",
              "        0.33333333],\n",
              "       [0.28301887, 0.55555556, 0.60784314, 0.06153846, 0.        ,\n",
              "        0.2       ],\n",
              "       [0.39622642, 0.55555556, 0.21568627, 0.00769231, 0.        ,\n",
              "        0.53333333],\n",
              "       [0.11320755, 0.33333333, 0.41176471, 0.06923077, 0.        ,\n",
              "        0.66666667],\n",
              "       [0.37735849, 0.77777778, 1.        , 0.69230769, 0.        ,\n",
              "        0.33333333],\n",
              "       [0.20754717, 0.55555556, 0.60784314, 0.08461538, 0.        ,\n",
              "        0.56666667],\n",
              "       [0.09433962, 0.11111111, 0.21568627, 0.05384615, 0.        ,\n",
              "        0.66666667],\n",
              "       [0.41509434, 0.77777778, 0.80392157, 0.92307692, 0.        ,\n",
              "        0.93333333],\n",
              "       [0.22641509, 0.55555556, 0.80392157, 0.13846154, 0.        ,\n",
              "        0.73333333],\n",
              "       [0.20754717, 0.55555556, 0.60784314, 0.11538462, 0.        ,\n",
              "        0.53333333],\n",
              "       [0.73584906, 0.77777778, 0.80392157, 0.69230769, 0.        ,\n",
              "        1.        ],\n",
              "       [0.28301887, 0.77777778, 1.        , 0.07769231, 0.        ,\n",
              "        0.66666667],\n",
              "       [0.94339623, 0.55555556, 0.60784314, 0.00769231, 0.        ,\n",
              "        0.5       ],\n",
              "       [0.03773585, 0.27777778, 0.21568627, 0.09230769, 0.        ,\n",
              "        0.56666667],\n",
              "       [0.47169811, 0.55555556, 0.60784314, 0.06923077, 0.        ,\n",
              "        0.6       ],\n",
              "       [0.20754717, 0.22222222, 0.31372549, 0.11538462, 0.        ,\n",
              "        0.53333333],\n",
              "       [0.71698113, 0.55555556, 0.60784314, 0.38461538, 0.        ,\n",
              "        0.93333333],\n",
              "       [0.47169811, 0.77777778, 1.        , 0.11538462, 0.        ,\n",
              "        0.2       ],\n",
              "       [0.37735849, 0.55555556, 0.60784314, 0.06923077, 0.75      ,\n",
              "        0.53333333],\n",
              "       [0.71698113, 0.55555556, 0.60784314, 0.38461538, 0.        ,\n",
              "        0.93333333],\n",
              "       [0.47169811, 0.77777778, 0.80392157, 0.53846154, 0.        ,\n",
              "        0.33333333],\n",
              "       [0.28301887, 0.77777778, 1.        , 0.11538462, 0.        ,\n",
              "        0.66666667],\n",
              "       [0.8490566 , 0.77777778, 0.90196078, 1.        , 0.        ,\n",
              "        0.56666667],\n",
              "       [0.28301887, 0.66666667, 0.60784314, 0.69230769, 0.        ,\n",
              "        0.86666667],\n",
              "       [0.24528302, 0.55555556, 0.80392157, 0.13846154, 0.        ,\n",
              "        0.        ],\n",
              "       [0.28301887, 0.22222222, 0.41176471, 0.00769231, 0.        ,\n",
              "        0.66666667],\n",
              "       [0.60377358, 0.55555556, 0.60784314, 0.03076923, 0.        ,\n",
              "        0.33333333],\n",
              "       [0.94339623, 0.55555556, 0.70588235, 0.69230769, 0.        ,\n",
              "        0.        ],\n",
              "       [0.24528302, 0.55555556, 0.80392157, 0.00769231, 0.        ,\n",
              "        0.        ],\n",
              "       [0.13207547, 0.22222222, 0.2745098 , 0.06923077, 0.75      ,\n",
              "        0.33333333],\n",
              "       [0.56603774, 1.        , 1.        , 1.        , 0.        ,\n",
              "        0.56666667],\n",
              "       [0.13207547, 0.22222222, 0.21568627, 0.06923077, 0.75      ,\n",
              "        0.53333333],\n",
              "       [0.22641509, 0.33333333, 0.31372549, 0.07692308, 0.        ,\n",
              "        0.66666667],\n",
              "       [0.8490566 , 0.55555556, 0.80392157, 0.46153846, 0.        ,\n",
              "        0.33333333],\n",
              "       [0.37735849, 0.77777778, 0.70588235, 0.07692308, 0.        ,\n",
              "        0.33333333],\n",
              "       [0.09433962, 0.55555556, 0.60784314, 0.09230769, 0.        ,\n",
              "        0.33333333],\n",
              "       [0.24528302, 0.66666667, 0.41176471, 0.07769231, 0.        ,\n",
              "        0.6       ],\n",
              "       [0.41509434, 0.77777778, 1.        , 0.06923077, 0.        ,\n",
              "        0.6       ],\n",
              "       [0.16981132, 0.55555556, 0.60784314, 0.07692308, 0.        ,\n",
              "        0.33333333],\n",
              "       [0.35849057, 0.66666667, 0.41176471, 0.13076923, 0.        ,\n",
              "        0.6       ],\n",
              "       [0.47169811, 0.55555556, 0.21568627, 0.00769231, 0.        ,\n",
              "        0.53333333],\n",
              "       [0.8490566 , 0.33333333, 0.31372549, 0.00769231, 0.        ,\n",
              "        0.2       ],\n",
              "       [0.75471698, 0.55555556, 0.60784314, 0.13846154, 0.        ,\n",
              "        0.33333333],\n",
              "       [0.20754717, 0.22222222, 0.31372549, 0.06923077, 0.        ,\n",
              "        0.53333333],\n",
              "       [0.35849057, 0.22222222, 0.41176471, 0.05384615, 0.        ,\n",
              "        0.66666667],\n",
              "       [0.60377358, 0.77777778, 1.        , 0.92307692, 0.        ,\n",
              "        1.        ],\n",
              "       [1.        , 0.77777778, 0.80392157, 0.69230769, 0.        ,\n",
              "        1.        ],\n",
              "       [0.47169811, 0.33333333, 0.41176471, 0.00769231, 0.        ,\n",
              "        0.2       ],\n",
              "       [0.71698113, 0.55555556, 0.60784314, 0.38461538, 0.        ,\n",
              "        0.93333333],\n",
              "       [0.22641509, 0.33333333, 0.31372549, 0.09230769, 0.        ,\n",
              "        0.33333333],\n",
              "       [0.73584906, 0.55555556, 0.80392157, 0.09230769, 0.        ,\n",
              "        0.56666667],\n",
              "       [0.83018868, 0.77777778, 1.        , 0.69230769, 0.        ,\n",
              "        0.2       ],\n",
              "       [0.        , 0.        , 0.01960784, 0.06923077, 0.        ,\n",
              "        0.33333333],\n",
              "       [0.56603774, 0.77777778, 1.        , 0.92307692, 0.        ,\n",
              "        1.        ],\n",
              "       [0.24528302, 0.55555556, 0.80392157, 0.05384615, 0.        ,\n",
              "        0.33333333],\n",
              "       [0.03773585, 0.27777778, 0.21568627, 0.06923077, 0.        ,\n",
              "        0.16666667],\n",
              "       [0.09433962, 0.55555556, 0.60784314, 0.07769231, 0.        ,\n",
              "        0.33333333],\n",
              "       [0.33962264, 0.22222222, 0.21568627, 0.09230769, 0.        ,\n",
              "        0.73333333],\n",
              "       [0.09433962, 0.55555556, 0.60784314, 0.07692308, 0.        ,\n",
              "        0.33333333],\n",
              "       [0.16981132, 0.55555556, 0.50980392, 0.06923077, 0.        ,\n",
              "        0.2       ],\n",
              "       [0.28301887, 0.55555556, 0.60784314, 0.07692308, 0.        ,\n",
              "        0.2       ],\n",
              "       [0.09433962, 0.33333333, 0.31372549, 0.05384615, 0.        ,\n",
              "        0.53333333],\n",
              "       [0.11320755, 0.33333333, 0.41176471, 0.09230769, 0.        ,\n",
              "        0.66666667],\n",
              "       [0.60377358, 0.55555556, 0.60784314, 0.11538462, 0.        ,\n",
              "        0.33333333],\n",
              "       [0.16981132, 0.55555556, 0.60784314, 0.07692308, 0.        ,\n",
              "        0.33333333],\n",
              "       [0.75471698, 0.77777778, 0.80392157, 0.69230769, 0.        ,\n",
              "        1.        ],\n",
              "       [0.75471698, 0.77777778, 0.90196078, 0.84615385, 0.        ,\n",
              "        0.        ],\n",
              "       [0.54716981, 0.22222222, 0.41176471, 0.23076923, 0.        ,\n",
              "        0.66666667],\n",
              "       [0.24528302, 0.77777778, 0.80392157, 0.06153846, 0.        ,\n",
              "        0.33333333],\n",
              "       [0.24528302, 0.55555556, 0.80392157, 0.00769231, 0.        ,\n",
              "        0.33333333]])"
            ]
          },
          "metadata": {},
          "execution_count": 11
        }
      ]
    },
    {
      "cell_type": "code",
      "source": [
        "x_test"
      ],
      "metadata": {
        "id": "Dm5wpTul4rpt",
        "colab": {
          "base_uri": "https://localhost:8080/"
        },
        "outputId": "83501ac2-0dfe-4467-cfed-11ca5392c1e3"
      },
      "execution_count": 12,
      "outputs": [
        {
          "output_type": "execute_result",
          "data": {
            "text/plain": [
              "array([[0.0754717 , 0.22222222, 0.31372549, 0.07692308, 0.75      ,\n",
              "        0.33333333],\n",
              "       [0.64150943, 0.55555556, 0.80392157, 0.76923077, 0.        ,\n",
              "        0.66666667],\n",
              "       [0.28301887, 0.77777778, 1.        , 0.06153846, 0.        ,\n",
              "        0.66666667],\n",
              "       [0.22641509, 0.55555556, 0.80392157, 0.08461538, 0.        ,\n",
              "        0.73333333],\n",
              "       [0.18867925, 0.33333333, 0.80392157, 0.08461538, 0.        ,\n",
              "        0.93333333],\n",
              "       [0.35849057, 0.66666667, 0.41176471, 0.13846154, 0.        ,\n",
              "        0.6       ],\n",
              "       [0.47169811, 0.16666667, 0.21568627, 0.38461538, 1.        ,\n",
              "        0.86666667],\n",
              "       [0.30188679, 0.16666667, 0.21568627, 0.        , 0.75      ,\n",
              "        0.86666667],\n",
              "       [0.22641509, 0.22222222, 0.21568627, 0.11538462, 1.        ,\n",
              "        0.        ],\n",
              "       [0.11320755, 0.22222222, 0.31372549, 0.06923077, 0.        ,\n",
              "        0.53333333],\n",
              "       [0.41509434, 0.55555556, 0.80392157, 0.06923077, 0.        ,\n",
              "        0.33333333],\n",
              "       [0.05660377, 0.22222222, 0.31372549, 0.13846154, 0.75      ,\n",
              "        0.66666667],\n",
              "       [0.28301887, 0.77777778, 1.        , 0.06153846, 0.        ,\n",
              "        0.66666667],\n",
              "       [0.22641509, 0.55555556, 0.70588235, 0.00769231, 0.        ,\n",
              "        0.93333333],\n",
              "       [0.03773585, 0.27777778, 0.21568627, 0.05384615, 0.        ,\n",
              "        0.56666667],\n",
              "       [0.35849057, 0.66666667, 0.41176471, 0.05384615, 0.        ,\n",
              "        0.6       ],\n",
              "       [0.52830189, 0.72222222, 0.21568627, 0.14615385, 0.75      ,\n",
              "        0.86666667],\n",
              "       [0.24528302, 0.22222222, 0.21568627, 0.11538462, 0.        ,\n",
              "        0.53333333],\n",
              "       [0.41509434, 0.77777778, 1.        , 0.14615385, 0.        ,\n",
              "        0.6       ],\n",
              "       [0.24528302, 0.77777778, 0.60784314, 0.07769231, 0.        ,\n",
              "        0.33333333],\n",
              "       [0.75471698, 0.77777778, 0.80392157, 0.69230769, 0.        ,\n",
              "        1.        ],\n",
              "       [0.22641509, 0.16666667, 0.21568627, 0.06923077, 0.        ,\n",
              "        0.53333333],\n",
              "       [0.20754717, 0.05555556, 0.01960784, 0.00769231, 0.        ,\n",
              "        0.33333333],\n",
              "       [0.83018868, 0.66666667, 0.41176471, 0.46153846, 0.        ,\n",
              "        0.23333333],\n",
              "       [0.35849057, 0.55555556, 0.41176471, 0.23076923, 0.        ,\n",
              "        0.66666667],\n",
              "       [0.8490566 , 0.77777778, 0.90196078, 1.        , 0.        ,\n",
              "        0.56666667],\n",
              "       [0.41509434, 0.77777778, 1.        , 0.14615385, 0.        ,\n",
              "        0.6       ],\n",
              "       [0.33962264, 0.5       , 0.21568627, 0.13846154, 0.75      ,\n",
              "        0.86666667],\n",
              "       [0.18867925, 0.55555556, 0.50980392, 0.07769231, 0.5       ,\n",
              "        0.33333333],\n",
              "       [0.94339623, 0.22222222, 0.31372549, 0.07692308, 0.        ,\n",
              "        0.56666667],\n",
              "       [0.60377358, 0.66666667, 0.60784314, 0.92307692, 0.        ,\n",
              "        0.33333333],\n",
              "       [0.47169811, 0.77777778, 1.        , 0.11538462, 0.        ,\n",
              "        0.2       ],\n",
              "       [0.20754717, 0.22222222, 0.21568627, 0.06923077, 0.        ,\n",
              "        0.86666667],\n",
              "       [0.16981132, 0.55555556, 0.70588235, 0.07692308, 0.        ,\n",
              "        0.        ],\n",
              "       [0.37735849, 0.55555556, 0.60784314, 0.00769231, 0.        ,\n",
              "        0.33333333],\n",
              "       [0.41509434, 0.55555556, 0.31372549, 0.        , 0.75      ,\n",
              "        0.53333333],\n",
              "       [0.09433962, 0.11111111, 0.21568627, 0.07692308, 0.        ,\n",
              "        0.66666667],\n",
              "       [0.94339623, 0.22222222, 0.31372549, 0.06153846, 0.        ,\n",
              "        0.56666667],\n",
              "       [0.1509434 , 0.22222222, 0.21568627, 0.06923077, 0.        ,\n",
              "        0.33333333],\n",
              "       [0.20754717, 0.55555556, 0.60784314, 0.06923077, 0.        ,\n",
              "        0.53333333],\n",
              "       [0.56603774, 1.        , 1.        , 1.        , 0.        ,\n",
              "        0.56666667],\n",
              "       [0.1509434 , 0.55555556, 0.60784314, 0.06923077, 1.        ,\n",
              "        0.53333333],\n",
              "       [0.28301887, 0.77777778, 1.        , 0.14615385, 0.        ,\n",
              "        0.66666667],\n",
              "       [0.47169811, 0.33333333, 0.41176471, 0.07692308, 0.        ,\n",
              "        0.        ],\n",
              "       [0.56603774, 0.55555556, 0.90196078, 0.38461538, 0.        ,\n",
              "        0.66666667]])"
            ]
          },
          "metadata": {},
          "execution_count": 12
        }
      ]
    },
    {
      "cell_type": "code",
      "source": [
        "y_train"
      ],
      "metadata": {
        "id": "_uOU08io4uxQ",
        "colab": {
          "base_uri": "https://localhost:8080/"
        },
        "outputId": "f114f488-f911-4a1b-cc2c-a0b9bb85e28d"
      },
      "execution_count": 13,
      "outputs": [
        {
          "output_type": "execute_result",
          "data": {
            "text/plain": [
              "138    2\n",
              "21     1\n",
              "143    1\n",
              "11     1\n",
              "105    2\n",
              "      ..\n",
              "106    2\n",
              "110    2\n",
              "112    2\n",
              "104    2\n",
              "44     0\n",
              "Name: RiskLevel, Length: 104, dtype: int64"
            ]
          },
          "metadata": {},
          "execution_count": 13
        }
      ]
    },
    {
      "cell_type": "code",
      "source": [
        "y_test"
      ],
      "metadata": {
        "id": "DQYF6s2g409I",
        "colab": {
          "base_uri": "https://localhost:8080/"
        },
        "outputId": "1a3f56ec-30dc-4c17-8bf7-b4e4a599bec7"
      },
      "execution_count": 14,
      "outputs": [
        {
          "output_type": "execute_result",
          "data": {
            "text/plain": [
              "145    2\n",
              "74     1\n",
              "103    2\n",
              "32     0\n",
              "30     0\n",
              "96     1\n",
              "7      2\n",
              "70     1\n",
              "135    2\n",
              "80     1\n",
              "8      1\n",
              "92     1\n",
              "107    2\n",
              "40     0\n",
              "148    0\n",
              "65     1\n",
              "111    2\n",
              "47     0\n",
              "109    2\n",
              "5      2\n",
              "16     2\n",
              "76     1\n",
              "34     0\n",
              "73     1\n",
              "128    2\n",
              "127    2\n",
              "118    2\n",
              "94     1\n",
              "13     1\n",
              "54     0\n",
              "9      2\n",
              "132    2\n",
              "79     1\n",
              "53     0\n",
              "43     0\n",
              "69     1\n",
              "61     0\n",
              "99     1\n",
              "85     1\n",
              "86     1\n",
              "123    2\n",
              "139    1\n",
              "115    2\n",
              "52     0\n",
              "134    2\n",
              "Name: RiskLevel, dtype: int64"
            ]
          },
          "metadata": {},
          "execution_count": 14
        }
      ]
    },
    {
      "cell_type": "code",
      "source": [
        "import numpy as np\n",
        "import pandas as pd\n",
        "from sklearn.model_selection import train_test_split\n",
        "from sklearn.svm import SVC\n",
        "a=pd.read_csv('/content/data set statml.csv')\n",
        "x_train,x_test,y_train,y_test=train_test_split(x,y,test_size=0.3)\n",
        "model=SVC(kernel='linear')\n",
        "model.fit(x_train,y_train)\n",
        "y_pred=model.predict(x_test)"
      ],
      "metadata": {
        "id": "tDy30xQ75dKs"
      },
      "execution_count": 15,
      "outputs": []
    },
    {
      "cell_type": "code",
      "source": [
        "from sklearn.metrics import accuracy_score\n",
        "print(\"accuracy\",accuracy_score(y_test,y_pred))"
      ],
      "metadata": {
        "colab": {
          "base_uri": "https://localhost:8080/"
        },
        "id": "OE1HhimFA-vi",
        "outputId": "7d417710-fde1-4476-ad54-860524ce6f5d"
      },
      "execution_count": 58,
      "outputs": [
        {
          "output_type": "stream",
          "name": "stdout",
          "text": [
            "accuracy 0.3111111111111111\n"
          ]
        }
      ]
    },
    {
      "cell_type": "code",
      "source": [
        "from sklearn.metrics import classification_report\n",
        "print(classification_report(y_test,y_pred))"
      ],
      "metadata": {
        "colab": {
          "base_uri": "https://localhost:8080/"
        },
        "id": "Cp_DaPZoBW8N",
        "outputId": "1efefa14-dcdc-4f95-8c89-cdfe81872931"
      },
      "execution_count": 59,
      "outputs": [
        {
          "output_type": "stream",
          "name": "stdout",
          "text": [
            "              precision    recall  f1-score   support\n",
            "\n",
            "           0       0.00      0.00      0.00        18\n",
            "           1       0.31      1.00      0.47        14\n",
            "           2       0.00      0.00      0.00        13\n",
            "\n",
            "    accuracy                           0.31        45\n",
            "   macro avg       0.10      0.33      0.16        45\n",
            "weighted avg       0.10      0.31      0.15        45\n",
            "\n"
          ]
        },
        {
          "output_type": "stream",
          "name": "stderr",
          "text": [
            "/usr/local/lib/python3.10/dist-packages/sklearn/metrics/_classification.py:1344: UndefinedMetricWarning: Precision and F-score are ill-defined and being set to 0.0 in labels with no predicted samples. Use `zero_division` parameter to control this behavior.\n",
            "  _warn_prf(average, modifier, msg_start, len(result))\n",
            "/usr/local/lib/python3.10/dist-packages/sklearn/metrics/_classification.py:1344: UndefinedMetricWarning: Precision and F-score are ill-defined and being set to 0.0 in labels with no predicted samples. Use `zero_division` parameter to control this behavior.\n",
            "  _warn_prf(average, modifier, msg_start, len(result))\n",
            "/usr/local/lib/python3.10/dist-packages/sklearn/metrics/_classification.py:1344: UndefinedMetricWarning: Precision and F-score are ill-defined and being set to 0.0 in labels with no predicted samples. Use `zero_division` parameter to control this behavior.\n",
            "  _warn_prf(average, modifier, msg_start, len(result))\n"
          ]
        }
      ]
    },
    {
      "cell_type": "code",
      "source": [
        "import numpy as np\n",
        "from sklearn.model_selection import train_test_split\n",
        "from sklearn.svm import SVC\n",
        "x_train,x_test,y_train,y_test=train_test_split(x,y,test_size=0.3)\n",
        "model=SVC(kernel='linear')\n",
        "model.fit(x_train,y_train)\n",
        "y_pred=model.predict(x_test)"
      ],
      "metadata": {
        "id": "PIyQhdKRBrDS"
      },
      "execution_count": 60,
      "outputs": []
    },
    {
      "cell_type": "code",
      "source": [
        "from sklearn.metrics import accuracy_score\n",
        "print(accuracy_score(y_test,y_pred))"
      ],
      "metadata": {
        "id": "ldH66EAGB25L",
        "colab": {
          "base_uri": "https://localhost:8080/"
        },
        "outputId": "7447d213-061b-496f-eb68-3c6913806a97"
      },
      "execution_count": 61,
      "outputs": [
        {
          "output_type": "stream",
          "name": "stdout",
          "text": [
            "0.6444444444444445\n"
          ]
        }
      ]
    },
    {
      "cell_type": "code",
      "source": [
        "from sklearn.metrics import classification_report\n",
        "print(classification_report(y_test,y_pred))"
      ],
      "metadata": {
        "colab": {
          "base_uri": "https://localhost:8080/"
        },
        "id": "Z_an5Gj8MuIQ",
        "outputId": "cfa003ea-14fb-4fd8-a494-539b526a41a5"
      },
      "execution_count": 62,
      "outputs": [
        {
          "output_type": "stream",
          "name": "stdout",
          "text": [
            "              precision    recall  f1-score   support\n",
            "\n",
            "           0       0.62      0.87      0.72        15\n",
            "           1       0.44      0.29      0.35        14\n",
            "           2       0.80      0.75      0.77        16\n",
            "\n",
            "    accuracy                           0.64        45\n",
            "   macro avg       0.62      0.63      0.61        45\n",
            "weighted avg       0.63      0.64      0.62        45\n",
            "\n"
          ]
        }
      ]
    },
    {
      "cell_type": "code",
      "source": [
        "svm_model = SVC(kernel='linear')\n",
        "svm_model.fit(x_train, y_train)\n",
        "svm_predictions = svm_model.predict(x_test)\n",
        "svm_accuracy = accuracy_score(y_test, svm_predictions)\n",
        "print(\"Support Vector Machine (SVM):\")\n",
        "print(f\"Accuracy: {svm_accuracy:.3f}\")"
      ],
      "metadata": {
        "colab": {
          "base_uri": "https://localhost:8080/"
        },
        "id": "W6EDU2aPis1g",
        "outputId": "e1deb0df-2aa7-4c76-ef0c-17da5c926f43"
      },
      "execution_count": 63,
      "outputs": [
        {
          "output_type": "stream",
          "name": "stdout",
          "text": [
            "Support Vector Machine (SVM):\n",
            "Accuracy: 0.644\n"
          ]
        }
      ]
    },
    {
      "cell_type": "code",
      "source": [
        "# Perceptron Learning\n",
        "perceptron_model = Perceptron(max_iter=1000)\n",
        "perceptron_model.fit(x_train, y_train)\n",
        "perceptron_predictions = perceptron_model.predict(x_test)\n",
        "perceptron_accuracy = accuracy_score(y_test, perceptron_predictions)\n",
        "print(\"Perceptron Learning:\")\n",
        "print(f\"Accuracy: {perceptron_accuracy:.3f}\")"
      ],
      "metadata": {
        "id": "Nz_uFARBNzfB",
        "colab": {
          "base_uri": "https://localhost:8080/"
        },
        "outputId": "6985b134-a355-4ec6-cdcc-f498fec35d0c"
      },
      "execution_count": 64,
      "outputs": [
        {
          "output_type": "stream",
          "name": "stdout",
          "text": [
            "Perceptron Learning:\n",
            "Accuracy: 0.356\n"
          ]
        }
      ]
    },
    {
      "cell_type": "code",
      "source": [
        "from sklearn.metrics import confusion_matrix\n",
        "\n",
        "cm = confusion_matrix(y_test, y_pred)\n",
        "print (\"Confusion Matrix : \\n\", cm)\n",
        "\n",
        "from sklearn.metrics import confusion_matrix, accuracy_score, precision_score, recall_score, f1_score\n",
        "\n",
        "accuracy = accuracy_score(y_test, y_pred)\n",
        "print(\"Accuracy:\", accuracy)\n",
        "\n",
        "# Calculate and print precision\n",
        "precision = precision_score(y_test, y_pred, average='weighted',zero_division=0)\n",
        "print(\"Precision:\", precision)\n",
        "\n",
        "# Calculate and print recall\n",
        "recall = recall_score(y_test, y_pred, average='weighted')\n",
        "print(\"Recall:\", recall)\n",
        "\n",
        "# Calculate and print F1-score\n",
        "f1 = f1_score(y_test, y_pred, average='weighted')\n",
        "print(\"F1-score:\", f1)"
      ],
      "metadata": {
        "colab": {
          "base_uri": "https://localhost:8080/"
        },
        "id": "fboUnvRKoDOo",
        "outputId": "641b25b3-b076-48ae-d8f2-9f1a644d289a"
      },
      "execution_count": 65,
      "outputs": [
        {
          "output_type": "stream",
          "name": "stdout",
          "text": [
            "Confusion Matrix : \n",
            " [[13  2  0]\n",
            " [ 7  4  3]\n",
            " [ 1  3 12]]\n",
            "Accuracy: 0.6444444444444445\n",
            "Precision: 0.6290652557319224\n",
            "Recall: 0.6444444444444445\n",
            "F1-score: 0.6242221183315153\n"
          ]
        }
      ]
    },
    {
      "cell_type": "code",
      "source": [
        "import numpy as np\n",
        "from sklearn.model_selection import train_test_split\n",
        "from sklearn.svm import SVC\n",
        "x_train,x_test,y_train,y_test=train_test_split(x,y,test_size=0.3)\n",
        "model=SVC(kernel='linear')\n",
        "model.fit(x_train,y_train)\n",
        "y_pred=model.predict(x_test)"
      ],
      "metadata": {
        "id": "eSeGmEmv1PDU"
      },
      "execution_count": 66,
      "outputs": []
    },
    {
      "cell_type": "code",
      "source": [
        "from sklearn.metrics import accuracy_score\n",
        "print(accuracy_score(y_test,y_pred))"
      ],
      "metadata": {
        "colab": {
          "base_uri": "https://localhost:8080/"
        },
        "id": "u6t0Hzvv9VyN",
        "outputId": "996ef0c8-1734-4b04-c816-72b52247489f"
      },
      "execution_count": 67,
      "outputs": [
        {
          "output_type": "stream",
          "name": "stdout",
          "text": [
            "0.5555555555555556\n"
          ]
        }
      ]
    },
    {
      "cell_type": "code",
      "source": [
        "from sklearn.metrics import classification_report\n",
        "print(classification_report(y_test,y_pred))"
      ],
      "metadata": {
        "colab": {
          "base_uri": "https://localhost:8080/"
        },
        "id": "T5w8tc4r9coh",
        "outputId": "a33f3727-f0fe-46ed-f3fc-85ced0f0e184"
      },
      "execution_count": 68,
      "outputs": [
        {
          "output_type": "stream",
          "name": "stdout",
          "text": [
            "              precision    recall  f1-score   support\n",
            "\n",
            "           0       0.60      0.94      0.73        16\n",
            "           1       0.44      0.22      0.30        18\n",
            "           2       0.55      0.55      0.55        11\n",
            "\n",
            "    accuracy                           0.56        45\n",
            "   macro avg       0.53      0.57      0.52        45\n",
            "weighted avg       0.52      0.56      0.51        45\n",
            "\n"
          ]
        }
      ]
    },
    {
      "cell_type": "code",
      "source": [
        "from sklearn import svm\n",
        "svm_model = svm.SVC(kernel='linear')\n",
        "svm_model.fit(x_train, y_train)\n",
        "y_pred = svm_model.predict(x_test)\n",
        "accuracy = accuracy_score(y_test, y_pred)\n",
        "print(\"Accuracy:\", accuracy)"
      ],
      "metadata": {
        "colab": {
          "base_uri": "https://localhost:8080/"
        },
        "id": "gBnbMyQB9jcK",
        "outputId": "01196d8a-b2d8-4151-dc54-a64fef6ac371"
      },
      "execution_count": 69,
      "outputs": [
        {
          "output_type": "stream",
          "name": "stdout",
          "text": [
            "Accuracy: 0.5555555555555556\n"
          ]
        }
      ]
    },
    {
      "cell_type": "code",
      "source": [
        "from sklearn.linear_model import Perceptron\n",
        "perceptron_model = Perceptron()\n",
        "perceptron_model.fit(x_train, y_train)\n",
        "y_pred = perceptron_model.predict(x_test)\n",
        "accuracy = accuracy_score(y_test, y_pred)\n",
        "print(\"Accuracy:\", accuracy)"
      ],
      "metadata": {
        "colab": {
          "base_uri": "https://localhost:8080/"
        },
        "id": "JqRCVkbu9nyQ",
        "outputId": "0059efcc-a688-4abc-c6bb-c70e8646b1eb"
      },
      "execution_count": 70,
      "outputs": [
        {
          "output_type": "stream",
          "name": "stdout",
          "text": [
            "Accuracy: 0.4\n"
          ]
        }
      ]
    },
    {
      "cell_type": "code",
      "source": [
        "from sklearn.neighbors import KNeighborsClassifier\n",
        "d_train, x_test, y_train, y_test = train_test_split(x, y, test_size=0.3, random_state=42)\n",
        "k_values = list(range(2, 50))\n",
        "accuracies = []\n",
        "\n",
        "for k in k_values:\n",
        "    knn = KNeighborsClassifier(n_neighbors=k)\n",
        "    knn.fit(x_train, y_train)\n",
        "    accuracy = knn.score(x_test, y_test)\n",
        "    accuracies.append(accuracy)\n",
        "print(accuracies)"
      ],
      "metadata": {
        "colab": {
          "base_uri": "https://localhost:8080/"
        },
        "id": "-lZs-bd39vdb",
        "outputId": "cac0497b-4921-42f4-a70f-8ba049bad773"
      },
      "execution_count": 71,
      "outputs": [
        {
          "output_type": "stream",
          "name": "stdout",
          "text": [
            "[0.35555555555555557, 0.26666666666666666, 0.37777777777777777, 0.37777777777777777, 0.3333333333333333, 0.3333333333333333, 0.2, 0.28888888888888886, 0.2222222222222222, 0.28888888888888886, 0.28888888888888886, 0.26666666666666666, 0.3111111111111111, 0.3111111111111111, 0.28888888888888886, 0.24444444444444444, 0.28888888888888886, 0.24444444444444444, 0.3111111111111111, 0.2, 0.28888888888888886, 0.24444444444444444, 0.24444444444444444, 0.2, 0.2, 0.2222222222222222, 0.2222222222222222, 0.2222222222222222, 0.2222222222222222, 0.2, 0.2, 0.17777777777777778, 0.17777777777777778, 0.15555555555555556, 0.2, 0.24444444444444444, 0.24444444444444444, 0.2222222222222222, 0.2, 0.15555555555555556, 0.2, 0.13333333333333333, 0.2, 0.2, 0.17777777777777778, 0.17777777777777778, 0.17777777777777778, 0.17777777777777778]\n"
          ]
        }
      ]
    },
    {
      "cell_type": "code",
      "source": [
        "import matplotlib.pyplot as plt"
      ],
      "metadata": {
        "id": "8lq_u8fh-xLF"
      },
      "execution_count": 72,
      "outputs": []
    },
    {
      "cell_type": "code",
      "source": [
        "plt.plot(k_values, accuracies, marker='o', linestyle='-')\n",
        "plt.title('Accuracy vs. K Value for KNN')\n",
        "plt.xlabel('K Value')\n",
        "plt.ylabel('Accuracy')\n",
        "plt.show()"
      ],
      "metadata": {
        "colab": {
          "base_uri": "https://localhost:8080/",
          "height": 472
        },
        "id": "-YhW0xVy90-s",
        "outputId": "7c4dafc8-e1e1-43cf-b1df-ca637371e7a4"
      },
      "execution_count": 74,
      "outputs": [
        {
          "output_type": "display_data",
          "data": {
            "text/plain": [
              "<Figure size 640x480 with 1 Axes>"
            ],
            "image/png": "[encoded data removed]"
          },
          "metadata": {}
        }
      ]
    },
    {
      "cell_type": "code",
      "source": [],
      "metadata": {
        "id": "LPp3Pw8I_V8s"
      },
      "execution_count": null,
      "outputs": []
    }
  ]
}